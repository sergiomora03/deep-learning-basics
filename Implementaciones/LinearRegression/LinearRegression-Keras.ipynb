{
 "cells": [
  {
   "cell_type": "markdown",
   "metadata": {
    "colab_type": "text",
    "id": "FPUcVrhwi5lW"
   },
   "source": [
    "# Linear Regression\n",
    "\n",
    "We will implement a linear regression model by using the Keras library. "
   ]
  },
  {
   "cell_type": "code",
   "execution_count": 0,
   "metadata": {
    "colab": {},
    "colab_type": "code",
    "id": "TPXvHqXMjThK"
   },
   "outputs": [],
   "source": [
    "%matplotlib inline\n",
    "import matplotlib.pyplot as plt\n",
    "import pandas as pd\n",
    "import numpy as np"
   ]
  },
  {
   "cell_type": "markdown",
   "metadata": {
    "colab_type": "text",
    "id": "GoLOyuPJlEQd"
   },
   "source": [
    "## Data set: Weight and height\n",
    "\n",
    "Active Drive and read the csv file with the weight and height data"
   ]
  },
  {
   "cell_type": "code",
   "execution_count": 0,
   "metadata": {
    "colab": {},
    "colab_type": "code",
    "id": "coSVqLWVkZsP"
   },
   "outputs": [],
   "source": [
    "df = pd.read_csv('/content/drive/My Drive/Colab Notebooks/DeepLearning-Intro-part2/weight-height.csv')"
   ]
  },
  {
   "cell_type": "code",
   "execution_count": 0,
   "metadata": {
    "colab": {
     "base_uri": "https://localhost:8080/",
     "height": 204
    },
    "colab_type": "code",
    "executionInfo": {
     "elapsed": 3488,
     "status": "ok",
     "timestamp": 1589078815315,
     "user": {
      "displayName": "Yuri Mejia",
      "photoUrl": "https://lh3.googleusercontent.com/a-/AOh14Ghy6QT1HPgPGC5w4vwxkfQBifQypyJXNbv-Xlvj=s64",
      "userId": "08260854436942738820"
     },
     "user_tz": 300
    },
    "id": "O9npsXODjUOu",
    "outputId": "868902fa-fc80-4477-ed43-db8ad009ab94"
   },
   "outputs": [
    {
     "data": {
      "text/html": [
       "<div>\n",
       "<style scoped>\n",
       "    .dataframe tbody tr th:only-of-type {\n",
       "        vertical-align: middle;\n",
       "    }\n",
       "\n",
       "    .dataframe tbody tr th {\n",
       "        vertical-align: top;\n",
       "    }\n",
       "\n",
       "    .dataframe thead th {\n",
       "        text-align: right;\n",
       "    }\n",
       "</style>\n",
       "<table border=\"1\" class=\"dataframe\">\n",
       "  <thead>\n",
       "    <tr style=\"text-align: right;\">\n",
       "      <th></th>\n",
       "      <th>Gender</th>\n",
       "      <th>Height</th>\n",
       "      <th>Weight</th>\n",
       "    </tr>\n",
       "  </thead>\n",
       "  <tbody>\n",
       "    <tr>\n",
       "      <th>0</th>\n",
       "      <td>Male</td>\n",
       "      <td>73.847017</td>\n",
       "      <td>241.893563</td>\n",
       "    </tr>\n",
       "    <tr>\n",
       "      <th>1</th>\n",
       "      <td>Male</td>\n",
       "      <td>68.781904</td>\n",
       "      <td>162.310473</td>\n",
       "    </tr>\n",
       "    <tr>\n",
       "      <th>2</th>\n",
       "      <td>Male</td>\n",
       "      <td>74.110105</td>\n",
       "      <td>212.740856</td>\n",
       "    </tr>\n",
       "    <tr>\n",
       "      <th>3</th>\n",
       "      <td>Male</td>\n",
       "      <td>71.730978</td>\n",
       "      <td>220.042470</td>\n",
       "    </tr>\n",
       "    <tr>\n",
       "      <th>4</th>\n",
       "      <td>Male</td>\n",
       "      <td>69.881796</td>\n",
       "      <td>206.349801</td>\n",
       "    </tr>\n",
       "  </tbody>\n",
       "</table>\n",
       "</div>"
      ],
      "text/plain": [
       "  Gender     Height      Weight\n",
       "0   Male  73.847017  241.893563\n",
       "1   Male  68.781904  162.310473\n",
       "2   Male  74.110105  212.740856\n",
       "3   Male  71.730978  220.042470\n",
       "4   Male  69.881796  206.349801"
      ]
     },
     "execution_count": 3,
     "metadata": {
      "tags": []
     },
     "output_type": "execute_result"
    }
   ],
   "source": [
    "df.head()"
   ]
  },
  {
   "cell_type": "code",
   "execution_count": 0,
   "metadata": {
    "colab": {
     "base_uri": "https://localhost:8080/",
     "height": 312
    },
    "colab_type": "code",
    "executionInfo": {
     "elapsed": 3473,
     "status": "ok",
     "timestamp": 1589078815316,
     "user": {
      "displayName": "Yuri Mejia",
      "photoUrl": "https://lh3.googleusercontent.com/a-/AOh14Ghy6QT1HPgPGC5w4vwxkfQBifQypyJXNbv-Xlvj=s64",
      "userId": "08260854436942738820"
     },
     "user_tz": 300
    },
    "id": "pWAOnROuk9Ar",
    "outputId": "765a288b-fa44-4cd7-ecc3-f4dca6850996"
   },
   "outputs": [
    {
     "data": {
      "text/plain": [
       "<matplotlib.axes._subplots.AxesSubplot at 0x7f49e17463c8>"
      ]
     },
     "execution_count": 4,
     "metadata": {
      "tags": []
     },
     "output_type": "execute_result"
    },
    {
     "data": {
      "image/png": "[encoded data removed]",
      "text/plain": [
       "<Figure size 432x288 with 1 Axes>"
      ]
     },
     "metadata": {
      "needs_background": "light",
      "tags": []
     },
     "output_type": "display_data"
    }
   ],
   "source": [
    "df.plot(kind='scatter',\n",
    "        x='Height',\n",
    "        y='Weight',\n",
    "        title='Weight and Height in adults')"
   ]
  },
  {
   "cell_type": "markdown",
   "metadata": {
    "colab_type": "text",
    "id": "4SapOpU6uAfy"
   },
   "source": [
    "## Model building\n"
   ]
  },
  {
   "cell_type": "code",
   "execution_count": 0,
   "metadata": {
    "colab": {
     "base_uri": "https://localhost:8080/",
     "height": 34
    },
    "colab_type": "code",
    "executionInfo": {
     "elapsed": 2630,
     "status": "ok",
     "timestamp": 1589078818038,
     "user": {
      "displayName": "Yuri Mejia",
      "photoUrl": "https://lh3.googleusercontent.com/a-/AOh14Ghy6QT1HPgPGC5w4vwxkfQBifQypyJXNbv-Xlvj=s64",
      "userId": "08260854436942738820"
     },
     "user_tz": 300
    },
    "id": "SUfw5qJ0izeg",
    "outputId": "bbf39854-de28-4a6a-9e7a-2fab333a8185"
   },
   "outputs": [
    {
     "name": "stderr",
     "output_type": "stream",
     "text": [
      "Using TensorFlow backend.\n"
     ]
    }
   ],
   "source": [
    "# Import the type of model: Sequential, because we will add elements to this model in a sequence\n",
    "from keras.models import Sequential\n",
    "# To build a linear model we will need only dense layers\n",
    "from keras.layers import Dense\n",
    "# Import the optimizers, they change the weights and biases looking for the minimum cost\n",
    "from keras.optimizers import Adam, SGD"
   ]
  },
  {
   "cell_type": "markdown",
   "metadata": {
    "colab_type": "text",
    "id": "KcbCBuDhuUqt"
   },
   "source": [
    "### Define the model"
   ]
  },
  {
   "cell_type": "code",
   "execution_count": 0,
   "metadata": {
    "colab": {},
    "colab_type": "code",
    "id": "8kVV4w8SjG-4"
   },
   "outputs": [],
   "source": [
    "# define the model to be sequential\n",
    "model = Sequential()"
   ]
  },
  {
   "cell_type": "markdown",
   "metadata": {
    "colab_type": "text",
    "id": "jwd-B-eBxcRQ"
   },
   "source": [
    "```\n",
    "Dense(units, activation=None, use_bias=True, kernel_initializer='glorot_uniform', bias_initializer='zeros', kernel_regularizer=None, bias_regularizer=None, activity_regularizer=None, kernel_constraint=None, bias_constraint=None, **kwargs)\n",
    "```\n",
    "\n",
    "Just your regular densely-connected NN layer.\n",
    "\n",
    "Dense implements the operation: $output = activation(dot(input, kernel) + bias)$ where activation is the element-wise activation function passed as the activation argument, kernel is a weights matrix created by the layer, and bias is a bias vector created by the layer (only applicable if use_bias is True)."
   ]
  },
  {
   "cell_type": "code",
   "execution_count": 0,
   "metadata": {
    "colab": {},
    "colab_type": "code",
    "id": "ZnQne-f-jJ1v"
   },
   "outputs": [],
   "source": [
    "# we add to the model a dense layer\n",
    "# the first parammeter is the number of units that is how many outputs this layer will have \n",
    "# Since this is a linear regression we will require a model with one output and one input\n",
    "model.add(Dense(1, input_shape=(1,))) #this code implements a model x*w+b"
   ]
  },
  {
   "cell_type": "code",
   "execution_count": 0,
   "metadata": {
    "colab": {
     "base_uri": "https://localhost:8080/",
     "height": 187
    },
    "colab_type": "code",
    "executionInfo": {
     "elapsed": 1214,
     "status": "ok",
     "timestamp": 1589078829802,
     "user": {
      "displayName": "Yuri Mejia",
      "photoUrl": "https://lh3.googleusercontent.com/a-/AOh14Ghy6QT1HPgPGC5w4vwxkfQBifQypyJXNbv-Xlvj=s64",
      "userId": "08260854436942738820"
     },
     "user_tz": 300
    },
    "id": "Os08q4tFjLyW",
    "outputId": "71cebf7f-b440-481a-b1d0-96c2e500b918"
   },
   "outputs": [
    {
     "name": "stdout",
     "output_type": "stream",
     "text": [
      "Model: \"sequential_1\"\n",
      "_________________________________________________________________\n",
      "Layer (type)                 Output Shape              Param #   \n",
      "=================================================================\n",
      "dense_1 (Dense)              (None, 1)                 2         \n",
      "=================================================================\n",
      "Total params: 2\n",
      "Trainable params: 2\n",
      "Non-trainable params: 0\n",
      "_________________________________________________________________\n"
     ]
    }
   ],
   "source": [
    "model.summary()"
   ]
  },
  {
   "cell_type": "markdown",
   "metadata": {
    "colab_type": "text",
    "id": "YM4RJcsAz_C2"
   },
   "source": [
    "We have a single layer called 'dense_1' the Output Shape is 1 number and it has 2 parameters. \n",
    "The reason that the Output Shape is (None, 1) is because the model can accept multiple points at once, instead of passing a single value we can ask for many values of x in one single call.\n"
   ]
  },
  {
   "cell_type": "markdown",
   "metadata": {
    "colab_type": "text",
    "id": "HEOqiEGn5pLA"
   },
   "source": [
    "When we compile the model, Keras will construct the model based on the backend software that we define (here we are using TensorFlow model).\n"
   ]
  },
  {
   "cell_type": "markdown",
   "metadata": {
    "colab_type": "text",
    "id": "ShiMTESN7DQk"
   },
   "source": [
    "\n",
    "```\n",
    "model.compile(optimizer, loss=None, metrics=None, loss_weights=None, sample_weight_mode=None, weighted_metrics=None, target_tensors=None, **kwargs)\n",
    "```\n"
   ]
  },
  {
   "cell_type": "code",
   "execution_count": 0,
   "metadata": {
    "colab": {},
    "colab_type": "code",
    "id": "9NUuofn5jORx"
   },
   "outputs": [],
   "source": [
    "# we will compile using the cost function (loss) 'mean_squared_error'\n",
    "model.compile(Adam(lr=0.8), 'mean_squared_error')"
   ]
  },
  {
   "cell_type": "markdown",
   "metadata": {
    "colab_type": "text",
    "id": "XVyT4sYvubTu"
   },
   "source": [
    "### Fit the model"
   ]
  },
  {
   "cell_type": "code",
   "execution_count": 0,
   "metadata": {
    "colab": {},
    "colab_type": "code",
    "id": "sSzCnZSiuxgu"
   },
   "outputs": [],
   "source": [
    "X = df[['Height']].values      #input data\n",
    "y_true = df['Weight'].values   #output data"
   ]
  },
  {
   "cell_type": "markdown",
   "metadata": {
    "colab_type": "text",
    "id": "d1aelLH87Uxz"
   },
   "source": [
    "Fit the model by using the input data, X, and the output data, y_true. In each iteration the loss is decreasing by looking for the W and B values. In this example it will search 40 times (40 epochs)."
   ]
  },
  {
   "cell_type": "code",
   "execution_count": 0,
   "metadata": {
    "colab": {
     "base_uri": "https://localhost:8080/",
     "height": 1000
    },
    "colab_type": "code",
    "executionInfo": {
     "elapsed": 11374,
     "status": "ok",
     "timestamp": 1589078849962,
     "user": {
      "displayName": "Yuri Mejia",
      "photoUrl": "https://lh3.googleusercontent.com/a-/AOh14Ghy6QT1HPgPGC5w4vwxkfQBifQypyJXNbv-Xlvj=s64",
      "userId": "08260854436942738820"
     },
     "user_tz": 300
    },
    "id": "5MCYvP8gjQbM",
    "outputId": "ca0f764b-50f2-4024-9b77-39f023094b5f"
   },
   "outputs": [
    {
     "name": "stdout",
     "output_type": "stream",
     "text": [
      "Epoch 1/40\n",
      "10000/10000 [==============================] - 1s 54us/step - loss: 641.6255\n",
      "Epoch 2/40\n",
      "10000/10000 [==============================] - 0s 26us/step - loss: 531.2374\n",
      "Epoch 3/40\n",
      "10000/10000 [==============================] - 0s 27us/step - loss: 475.7274\n",
      "Epoch 4/40\n",
      "10000/10000 [==============================] - 0s 26us/step - loss: 437.8883\n",
      "Epoch 5/40\n",
      "10000/10000 [==============================] - 0s 27us/step - loss: 378.0077\n",
      "Epoch 6/40\n",
      "10000/10000 [==============================] - 0s 29us/step - loss: 348.8181\n",
      "Epoch 7/40\n",
      "10000/10000 [==============================] - 0s 25us/step - loss: 298.8625\n",
      "Epoch 8/40\n",
      "10000/10000 [==============================] - 0s 25us/step - loss: 285.9285\n",
      "Epoch 9/40\n",
      "10000/10000 [==============================] - 0s 25us/step - loss: 267.1154\n",
      "Epoch 10/40\n",
      "10000/10000 [==============================] - 0s 27us/step - loss: 257.0898\n",
      "Epoch 11/40\n",
      "10000/10000 [==============================] - 0s 26us/step - loss: 229.6472\n",
      "Epoch 12/40\n",
      "10000/10000 [==============================] - 0s 24us/step - loss: 215.3994\n",
      "Epoch 13/40\n",
      "10000/10000 [==============================] - 0s 24us/step - loss: 212.3130\n",
      "Epoch 14/40\n",
      "10000/10000 [==============================] - 0s 26us/step - loss: 197.3882\n",
      "Epoch 15/40\n",
      "10000/10000 [==============================] - 0s 27us/step - loss: 201.8168\n",
      "Epoch 16/40\n",
      "10000/10000 [==============================] - 0s 26us/step - loss: 194.6146\n",
      "Epoch 17/40\n",
      "10000/10000 [==============================] - 0s 24us/step - loss: 197.7766\n",
      "Epoch 18/40\n",
      "10000/10000 [==============================] - 0s 26us/step - loss: 176.6824\n",
      "Epoch 19/40\n",
      "10000/10000 [==============================] - 0s 25us/step - loss: 179.1187\n",
      "Epoch 20/40\n",
      "10000/10000 [==============================] - 0s 26us/step - loss: 202.4124\n",
      "Epoch 21/40\n",
      "10000/10000 [==============================] - 0s 26us/step - loss: 177.8580\n",
      "Epoch 22/40\n",
      "10000/10000 [==============================] - 0s 27us/step - loss: 178.8894\n",
      "Epoch 23/40\n",
      "10000/10000 [==============================] - 0s 26us/step - loss: 181.3036\n",
      "Epoch 24/40\n",
      "10000/10000 [==============================] - 0s 25us/step - loss: 179.6010\n",
      "Epoch 25/40\n",
      "10000/10000 [==============================] - 0s 25us/step - loss: 183.0226\n",
      "Epoch 26/40\n",
      "10000/10000 [==============================] - 0s 27us/step - loss: 174.9212\n",
      "Epoch 27/40\n",
      "10000/10000 [==============================] - 0s 27us/step - loss: 173.5374\n",
      "Epoch 28/40\n",
      "10000/10000 [==============================] - 0s 27us/step - loss: 167.8445\n",
      "Epoch 29/40\n",
      "10000/10000 [==============================] - 0s 26us/step - loss: 179.6013\n",
      "Epoch 30/40\n",
      "10000/10000 [==============================] - 0s 27us/step - loss: 184.6290\n",
      "Epoch 31/40\n",
      "10000/10000 [==============================] - 0s 27us/step - loss: 178.1232\n",
      "Epoch 32/40\n",
      "10000/10000 [==============================] - 0s 25us/step - loss: 178.5953\n",
      "Epoch 33/40\n",
      "10000/10000 [==============================] - 0s 26us/step - loss: 186.7905\n",
      "Epoch 34/40\n",
      "10000/10000 [==============================] - 0s 27us/step - loss: 183.4978\n",
      "Epoch 35/40\n",
      "10000/10000 [==============================] - 0s 27us/step - loss: 176.8871\n",
      "Epoch 36/40\n",
      "10000/10000 [==============================] - 0s 27us/step - loss: 170.2855\n",
      "Epoch 37/40\n",
      "10000/10000 [==============================] - 0s 27us/step - loss: 185.9228\n",
      "Epoch 38/40\n",
      "10000/10000 [==============================] - 0s 25us/step - loss: 189.4159\n",
      "Epoch 39/40\n",
      "10000/10000 [==============================] - 0s 28us/step - loss: 179.4457\n",
      "Epoch 40/40\n",
      "10000/10000 [==============================] - 0s 26us/step - loss: 181.2774\n"
     ]
    },
    {
     "data": {
      "text/plain": [
       "<keras.callbacks.callbacks.History at 0x7f499c697c50>"
      ]
     },
     "execution_count": 11,
     "metadata": {
      "tags": []
     },
     "output_type": "execute_result"
    }
   ],
   "source": [
    "model.fit(X, y_true, epochs=40)"
   ]
  },
  {
   "cell_type": "code",
   "execution_count": 0,
   "metadata": {
    "colab": {},
    "colab_type": "code",
    "id": "hnOiWRojtEWM"
   },
   "outputs": [],
   "source": [
    "y_pred = model.predict(X)"
   ]
  },
  {
   "cell_type": "code",
   "execution_count": 0,
   "metadata": {
    "colab": {
     "base_uri": "https://localhost:8080/",
     "height": 312
    },
    "colab_type": "code",
    "executionInfo": {
     "elapsed": 798,
     "status": "ok",
     "timestamp": 1589078917692,
     "user": {
      "displayName": "Yuri Mejia",
      "photoUrl": "https://lh3.googleusercontent.com/a-/AOh14Ghy6QT1HPgPGC5w4vwxkfQBifQypyJXNbv-Xlvj=s64",
      "userId": "08260854436942738820"
     },
     "user_tz": 300
    },
    "id": "0YLGYH_ks8IF",
    "outputId": "09b81a06-e3c9-496c-a71f-e072a19920c8"
   },
   "outputs": [
    {
     "data": {
      "text/plain": [
       "[<matplotlib.lines.Line2D at 0x7f498e274630>]"
      ]
     },
     "execution_count": 32,
     "metadata": {
      "tags": []
     },
     "output_type": "execute_result"
    },
    {
     "data": {
      "image/png": "[encoded data removed]",
      "text/plain": [
       "<Figure size 432x288 with 1 Axes>"
      ]
     },
     "metadata": {
      "needs_background": "light",
      "tags": []
     },
     "output_type": "display_data"
    }
   ],
   "source": [
    "df.plot(kind='scatter',\n",
    "        x='Height',\n",
    "        y='Weight',\n",
    "        title='Weight and Height in adults')\n",
    "plt.plot(X, y_pred, color='red')"
   ]
  },
  {
   "cell_type": "markdown",
   "metadata": {
    "colab_type": "text",
    "id": "1lizWfPR8AJD"
   },
   "source": [
    "Extract the values of W (slope) and B (bias). \n"
   ]
  },
  {
   "cell_type": "code",
   "execution_count": 0,
   "metadata": {
    "colab": {},
    "colab_type": "code",
    "id": "zrg9FnjqtGo9"
   },
   "outputs": [],
   "source": [
    "W, B = model.get_weights()"
   ]
  },
  {
   "cell_type": "code",
   "execution_count": 0,
   "metadata": {
    "colab": {
     "base_uri": "https://localhost:8080/",
     "height": 34
    },
    "colab_type": "code",
    "executionInfo": {
     "elapsed": 410,
     "status": "ok",
     "timestamp": 1589078862628,
     "user": {
      "displayName": "Yuri Mejia",
      "photoUrl": "https://lh3.googleusercontent.com/a-/AOh14Ghy6QT1HPgPGC5w4vwxkfQBifQypyJXNbv-Xlvj=s64",
      "userId": "08260854436942738820"
     },
     "user_tz": 300
    },
    "id": "HYe4vnfktI3N",
    "outputId": "cd1fab10-4579-4d49-af21-8dc267cdef9a"
   },
   "outputs": [
    {
     "data": {
      "text/plain": [
       "array([[7.4930134]], dtype=float32)"
      ]
     },
     "execution_count": 16,
     "metadata": {
      "tags": []
     },
     "output_type": "execute_result"
    }
   ],
   "source": [
    "W"
   ]
  },
  {
   "cell_type": "code",
   "execution_count": 0,
   "metadata": {
    "colab": {
     "base_uri": "https://localhost:8080/",
     "height": 34
    },
    "colab_type": "code",
    "executionInfo": {
     "elapsed": 481,
     "status": "ok",
     "timestamp": 1589078864350,
     "user": {
      "displayName": "Yuri Mejia",
      "photoUrl": "https://lh3.googleusercontent.com/a-/AOh14Ghy6QT1HPgPGC5w4vwxkfQBifQypyJXNbv-Xlvj=s64",
      "userId": "08260854436942738820"
     },
     "user_tz": 300
    },
    "id": "Sv0eKzwbtKwY",
    "outputId": "9cb13b39-d4f3-4a33-e793-52d83afdb5a6"
   },
   "outputs": [
    {
     "data": {
      "text/plain": [
       "array([-348.76944], dtype=float32)"
      ]
     },
     "execution_count": 17,
     "metadata": {
      "tags": []
     },
     "output_type": "execute_result"
    }
   ],
   "source": [
    "B"
   ]
  },
  {
   "cell_type": "markdown",
   "metadata": {
    "colab_type": "text",
    "id": "Wcf-E9g_tLmT"
   },
   "source": [
    "## Performance of the model \n"
   ]
  },
  {
   "cell_type": "code",
   "execution_count": 0,
   "metadata": {
    "colab": {},
    "colab_type": "code",
    "id": "xu9rrJbstRog"
   },
   "outputs": [],
   "source": [
    "from sklearn.metrics import r2_score"
   ]
  },
  {
   "cell_type": "code",
   "execution_count": 0,
   "metadata": {
    "colab": {
     "base_uri": "https://localhost:8080/",
     "height": 34
    },
    "colab_type": "code",
    "executionInfo": {
     "elapsed": 737,
     "status": "ok",
     "timestamp": 1589078926595,
     "user": {
      "displayName": "Yuri Mejia",
      "photoUrl": "https://lh3.googleusercontent.com/a-/AOh14Ghy6QT1HPgPGC5w4vwxkfQBifQypyJXNbv-Xlvj=s64",
      "userId": "08260854436942738820"
     },
     "user_tz": 300
    },
    "id": "Xh9147fZtT-S",
    "outputId": "318f9376-8cbd-4d64-a198-2ec0a09b4965"
   },
   "outputs": [
    {
     "name": "stdout",
     "output_type": "stream",
     "text": [
      "The R2 score is 0.829\n"
     ]
    }
   ],
   "source": [
    "print(\"The R2 score is {:0.3f}\".format(r2_score(y_true, y_pred)))"
   ]
  },
  {
   "cell_type": "markdown",
   "metadata": {
    "colab_type": "text",
    "id": "h3XwhywRtWZD"
   },
   "source": [
    "### Train/test split\n"
   ]
  },
  {
   "cell_type": "code",
   "execution_count": 0,
   "metadata": {
    "colab": {},
    "colab_type": "code",
    "id": "JWZV7orytV0h"
   },
   "outputs": [],
   "source": [
    "from sklearn.model_selection import train_test_split"
   ]
  },
  {
   "cell_type": "code",
   "execution_count": 0,
   "metadata": {
    "colab": {},
    "colab_type": "code",
    "id": "X9xHmgAFtd_5"
   },
   "outputs": [],
   "source": [
    "X_train, X_test, y_train, y_test = train_test_split(X, y_true,\n",
    "                                                    test_size=0.2)"
   ]
  },
  {
   "cell_type": "code",
   "execution_count": 0,
   "metadata": {
    "colab": {
     "base_uri": "https://localhost:8080/",
     "height": 34
    },
    "colab_type": "code",
    "executionInfo": {
     "elapsed": 455,
     "status": "ok",
     "timestamp": 1589078883312,
     "user": {
      "displayName": "Yuri Mejia",
      "photoUrl": "https://lh3.googleusercontent.com/a-/AOh14Ghy6QT1HPgPGC5w4vwxkfQBifQypyJXNbv-Xlvj=s64",
      "userId": "08260854436942738820"
     },
     "user_tz": 300
    },
    "id": "EB5ZbYF3tgs1",
    "outputId": "96131771-0bc4-400e-b68b-ccfac41a7fc6"
   },
   "outputs": [
    {
     "data": {
      "text/plain": [
       "8000"
      ]
     },
     "execution_count": 22,
     "metadata": {
      "tags": []
     },
     "output_type": "execute_result"
    }
   ],
   "source": [
    "len(X_train)"
   ]
  },
  {
   "cell_type": "code",
   "execution_count": 0,
   "metadata": {
    "colab": {
     "base_uri": "https://localhost:8080/",
     "height": 34
    },
    "colab_type": "code",
    "executionInfo": {
     "elapsed": 412,
     "status": "ok",
     "timestamp": 1589078885272,
     "user": {
      "displayName": "Yuri Mejia",
      "photoUrl": "https://lh3.googleusercontent.com/a-/AOh14Ghy6QT1HPgPGC5w4vwxkfQBifQypyJXNbv-Xlvj=s64",
      "userId": "08260854436942738820"
     },
     "user_tz": 300
    },
    "id": "5OyhJixZtipp",
    "outputId": "1c8dfc8e-1f13-4c58-d8c4-5eef908bd013"
   },
   "outputs": [
    {
     "data": {
      "text/plain": [
       "2000"
      ]
     },
     "execution_count": 23,
     "metadata": {
      "tags": []
     },
     "output_type": "execute_result"
    }
   ],
   "source": [
    "len(X_test)"
   ]
  },
  {
   "cell_type": "code",
   "execution_count": 0,
   "metadata": {
    "colab": {},
    "colab_type": "code",
    "id": "vvlG4rxJtlrA"
   },
   "outputs": [],
   "source": [
    "#reset the parameters of the model\n",
    "W[0, 0] = 0.0\n",
    "B[0] = 0.0\n",
    "model.set_weights((W, B))"
   ]
  },
  {
   "cell_type": "code",
   "execution_count": 0,
   "metadata": {
    "colab": {
     "base_uri": "https://localhost:8080/",
     "height": 34
    },
    "colab_type": "code",
    "executionInfo": {
     "elapsed": 9682,
     "status": "ok",
     "timestamp": 1589079113993,
     "user": {
      "displayName": "Yuri Mejia",
      "photoUrl": "https://lh3.googleusercontent.com/a-/AOh14Ghy6QT1HPgPGC5w4vwxkfQBifQypyJXNbv-Xlvj=s64",
      "userId": "08260854436942738820"
     },
     "user_tz": 300
    },
    "id": "t-B1T56Atn8x",
    "outputId": "3084491f-f423-4086-a247-d6f336906eff"
   },
   "outputs": [
    {
     "data": {
      "text/plain": [
       "<keras.callbacks.callbacks.History at 0x7f498e2742b0>"
      ]
     },
     "execution_count": 34,
     "metadata": {
      "tags": []
     },
     "output_type": "execute_result"
    }
   ],
   "source": [
    "#retrain the model in the selected sample\n",
    "model.fit(X_train, y_train, epochs=50, verbose=0) #verbose=0 doesn't show each iteration"
   ]
  },
  {
   "cell_type": "code",
   "execution_count": 0,
   "metadata": {
    "colab": {},
    "colab_type": "code",
    "id": "76uK39WGtqgb"
   },
   "outputs": [],
   "source": [
    "y_train_pred = model.predict(X_train).ravel() \n",
    "y_test_pred = model.predict(X_test).ravel()"
   ]
  },
  {
   "cell_type": "code",
   "execution_count": 0,
   "metadata": {
    "colab": {},
    "colab_type": "code",
    "id": "DdPrXOaYttR8"
   },
   "outputs": [],
   "source": [
    "from sklearn.metrics import mean_squared_error as mse"
   ]
  },
  {
   "cell_type": "code",
   "execution_count": 0,
   "metadata": {
    "colab": {
     "base_uri": "https://localhost:8080/",
     "height": 51
    },
    "colab_type": "code",
    "executionInfo": {
     "elapsed": 490,
     "status": "ok",
     "timestamp": 1589079122407,
     "user": {
      "displayName": "Yuri Mejia",
      "photoUrl": "https://lh3.googleusercontent.com/a-/AOh14Ghy6QT1HPgPGC5w4vwxkfQBifQypyJXNbv-Xlvj=s64",
      "userId": "08260854436942738820"
     },
     "user_tz": 300
    },
    "id": "JHt588BGtvdg",
    "outputId": "6f423447-dd28-4964-dd51-b9d8807caa47"
   },
   "outputs": [
    {
     "name": "stdout",
     "output_type": "stream",
     "text": [
      "The Mean Squared Error on the Train set is:\t169.0\n",
      "The Mean Squared Error on the Test set is:\t176.4\n"
     ]
    }
   ],
   "source": [
    "print(\"The Mean Squared Error on the Train set is:\\t{:0.1f}\".format(mse(y_train, y_train_pred)))\n",
    "print(\"The Mean Squared Error on the Test set is:\\t{:0.1f}\".format(mse(y_test, y_test_pred)))"
   ]
  },
  {
   "cell_type": "code",
   "execution_count": 0,
   "metadata": {
    "colab": {
     "base_uri": "https://localhost:8080/",
     "height": 51
    },
    "colab_type": "code",
    "executionInfo": {
     "elapsed": 463,
     "status": "ok",
     "timestamp": 1589079124702,
     "user": {
      "displayName": "Yuri Mejia",
      "photoUrl": "https://lh3.googleusercontent.com/a-/AOh14Ghy6QT1HPgPGC5w4vwxkfQBifQypyJXNbv-Xlvj=s64",
      "userId": "08260854436942738820"
     },
     "user_tz": 300
    },
    "id": "BoQKDK5wtx-J",
    "outputId": "9abe7369-accb-4ead-dfd4-f12abd3c1627"
   },
   "outputs": [
    {
     "name": "stdout",
     "output_type": "stream",
     "text": [
      "The R2 score on the Train set is:\t0.837\n",
      "The R2 score on the Test set is:\t0.827\n"
     ]
    }
   ],
   "source": [
    "print(\"The R2 score on the Train set is:\\t{:0.3f}\".format(r2_score(y_train, y_train_pred)))\n",
    "print(\"The R2 score on the Test set is:\\t{:0.3f}\".format(r2_score(y_test, y_test_pred)))"
   ]
  },
  {
   "cell_type": "markdown",
   "metadata": {
    "colab_type": "text",
    "id": "OwSeQm00gJFK"
   },
   "source": [
    "The score for the training set is close to the one in the test set, therefore this model is good in generalization. \n"
   ]
  }
 ],
 "metadata": {
  "colab": {
   "authorship_tag": "ABX9TyOacZIpDUYwI2UH996fbho4",
   "mount_file_id": "15vDGMEzJVnIywB-XWJz6YCgrVfh9TJHz",
   "name": "LinearRegression-Keras.ipynb",
   "provenance": []
  },
  "kernelspec": {
   "display_name": "Python 3",
   "language": "python",
   "name": "python3"
  },
  "language_info": {
   "codemirror_mode": {
    "name": "ipython",
    "version": 3
   },
   "file_extension": ".py",
   "mimetype": "text/x-python",
   "name": "python",
   "nbconvert_exporter": "python",
   "pygments_lexer": "ipython3",
   "version": "3.7.1"
  }
 },
 "nbformat": 4,
 "nbformat_minor": 1
}
